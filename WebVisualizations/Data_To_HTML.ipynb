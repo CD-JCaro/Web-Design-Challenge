{
 "cells": [
  {
   "cell_type": "code",
   "execution_count": 1,
   "metadata": {},
   "outputs": [],
   "source": [
    "# Dependencies and Setup\n",
    "import pandas as pd\n",
    "import os"
   ]
  },
  {
   "cell_type": "code",
   "execution_count": 2,
   "metadata": {},
   "outputs": [
    {
     "data": {
      "text/plain": [
       "'.\\\\resources\\\\cities.csv'"
      ]
     },
     "execution_count": 2,
     "metadata": {},
     "output_type": "execute_result"
    }
   ],
   "source": [
    "# Define path to csv file\n",
    "\n",
    "cities_file=os.path.join('.','resources','cities.csv')\n",
    "cities_file"
   ]
  },
  {
   "cell_type": "code",
   "execution_count": 11,
   "metadata": {
    "scrolled": true
   },
   "outputs": [
    {
     "data": {
      "text/html": [
       "<div>\n",
       "<style scoped>\n",
       "    .dataframe tbody tr th:only-of-type {\n",
       "        vertical-align: middle;\n",
       "    }\n",
       "\n",
       "    .dataframe tbody tr th {\n",
       "        vertical-align: top;\n",
       "    }\n",
       "\n",
       "    .dataframe thead th {\n",
       "        text-align: right;\n",
       "    }\n",
       "</style>\n",
       "<table border=\"1\" class=\"dataframe\">\n",
       "  <thead>\n",
       "    <tr style=\"text-align: right;\">\n",
       "      <th></th>\n",
       "      <th>City_ID</th>\n",
       "      <th>City</th>\n",
       "      <th>Country</th>\n",
       "      <th>Latitude</th>\n",
       "      <th>Max Temperature</th>\n",
       "      <th>Cloudiness</th>\n",
       "      <th>Wind Speed</th>\n",
       "      <th>Humidity</th>\n",
       "    </tr>\n",
       "  </thead>\n",
       "  <tbody>\n",
       "    <tr>\n",
       "      <th>0</th>\n",
       "      <td>0</td>\n",
       "      <td>Tuktoyaktuk</td>\n",
       "      <td>CA</td>\n",
       "      <td>69.44</td>\n",
       "      <td>-7.60</td>\n",
       "      <td>40</td>\n",
       "      <td>6.93</td>\n",
       "      <td>76</td>\n",
       "    </tr>\n",
       "    <tr>\n",
       "      <th>1</th>\n",
       "      <td>1</td>\n",
       "      <td>Chuy</td>\n",
       "      <td>UY</td>\n",
       "      <td>-33.69</td>\n",
       "      <td>68.56</td>\n",
       "      <td>0</td>\n",
       "      <td>12.64</td>\n",
       "      <td>76</td>\n",
       "    </tr>\n",
       "    <tr>\n",
       "      <th>2</th>\n",
       "      <td>2</td>\n",
       "      <td>Port Hedland</td>\n",
       "      <td>AU</td>\n",
       "      <td>-20.31</td>\n",
       "      <td>80.60</td>\n",
       "      <td>7</td>\n",
       "      <td>8.05</td>\n",
       "      <td>19</td>\n",
       "    </tr>\n",
       "    <tr>\n",
       "      <th>3</th>\n",
       "      <td>3</td>\n",
       "      <td>Atuona</td>\n",
       "      <td>PF</td>\n",
       "      <td>-9.80</td>\n",
       "      <td>80.24</td>\n",
       "      <td>21</td>\n",
       "      <td>13.69</td>\n",
       "      <td>72</td>\n",
       "    </tr>\n",
       "    <tr>\n",
       "      <th>4</th>\n",
       "      <td>4</td>\n",
       "      <td>Gasa</td>\n",
       "      <td>BT</td>\n",
       "      <td>27.91</td>\n",
       "      <td>24.42</td>\n",
       "      <td>0</td>\n",
       "      <td>1.14</td>\n",
       "      <td>67</td>\n",
       "    </tr>\n",
       "  </tbody>\n",
       "</table>\n",
       "</div>"
      ],
      "text/plain": [
       "   City_ID          City Country  Latitude  Max Temperature  Cloudiness  \\\n",
       "0        0   Tuktoyaktuk      CA     69.44            -7.60          40   \n",
       "1        1          Chuy      UY    -33.69            68.56           0   \n",
       "2        2  Port Hedland      AU    -20.31            80.60           7   \n",
       "3        3        Atuona      PF     -9.80            80.24          21   \n",
       "4        4          Gasa      BT     27.91            24.42           0   \n",
       "\n",
       "   Wind Speed  Humidity  \n",
       "0        6.93        76  \n",
       "1       12.64        76  \n",
       "2        8.05        19  \n",
       "3       13.69        72  \n",
       "4        1.14        67  "
      ]
     },
     "execution_count": 11,
     "metadata": {},
     "output_type": "execute_result"
    }
   ],
   "source": [
    "# Read in csv file and convert to dataframe\n",
    "\n",
    "file_cities=pd.read_csv(cities_file)\n",
    "\n",
    "cities_df=pd.DataFrame(file_cities)\n",
    "\n",
    "cities_df=cities_df[[\"City_ID\", \"City\", \"Country\", \"Latitude\", \"Max Temperature\", \"Cloudiness\", \"Wind Speed\", \"Humidity\"]]\n",
    "\n",
    "cities_df.head()"
   ]
  },
  {
   "cell_type": "code",
   "execution_count": 14,
   "metadata": {},
   "outputs": [],
   "source": [
    "# output data fram to html format\n",
    "\n",
    "cities_df.to_html('./resources/cities.html')"
   ]
  }
 ],
 "metadata": {
  "kernelspec": {
   "display_name": "Python 3",
   "language": "python",
   "name": "python3"
  },
  "language_info": {
   "codemirror_mode": {
    "name": "ipython",
    "version": 3
   },
   "file_extension": ".py",
   "mimetype": "text/x-python",
   "name": "python",
   "nbconvert_exporter": "python",
   "pygments_lexer": "ipython3",
   "version": "3.7.3"
  }
 },
 "nbformat": 4,
 "nbformat_minor": 2
}
